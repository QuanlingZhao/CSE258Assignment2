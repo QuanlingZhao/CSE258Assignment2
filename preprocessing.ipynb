{
 "cells": [
  {
   "cell_type": "code",
   "execution_count": 1,
   "id": "f805c1fb",
   "metadata": {},
   "outputs": [],
   "source": [
    "import numpy as np\n",
    "import pandas as pd\n",
    "import matplotlib as plt\n",
    "import seaborn as sns\n",
    "import gzip\n",
    "import json\n",
    "from transformers import pipeline\n",
    "import math"
   ]
  },
  {
   "cell_type": "code",
   "execution_count": null,
   "id": "a0fe0520",
   "metadata": {},
   "outputs": [],
   "source": []
  },
  {
   "cell_type": "code",
   "execution_count": 50,
   "id": "b537c2f4",
   "metadata": {},
   "outputs": [],
   "source": [
    "raw = pd.read_json('modcloth_final_data.json.gz',lines=True)"
   ]
  },
  {
   "cell_type": "code",
   "execution_count": 51,
   "id": "50e13faf",
   "metadata": {},
   "outputs": [
    {
     "data": {
      "text/html": [
       "<div>\n",
       "<style scoped>\n",
       "    .dataframe tbody tr th:only-of-type {\n",
       "        vertical-align: middle;\n",
       "    }\n",
       "\n",
       "    .dataframe tbody tr th {\n",
       "        vertical-align: top;\n",
       "    }\n",
       "\n",
       "    .dataframe thead th {\n",
       "        text-align: right;\n",
       "    }\n",
       "</style>\n",
       "<table border=\"1\" class=\"dataframe\">\n",
       "  <thead>\n",
       "    <tr style=\"text-align: right;\">\n",
       "      <th></th>\n",
       "      <th>item_id</th>\n",
       "      <th>waist</th>\n",
       "      <th>size</th>\n",
       "      <th>quality</th>\n",
       "      <th>cup size</th>\n",
       "      <th>hips</th>\n",
       "      <th>bra size</th>\n",
       "      <th>category</th>\n",
       "      <th>bust</th>\n",
       "      <th>height</th>\n",
       "      <th>user_name</th>\n",
       "      <th>length</th>\n",
       "      <th>fit</th>\n",
       "      <th>user_id</th>\n",
       "      <th>shoe size</th>\n",
       "      <th>shoe width</th>\n",
       "      <th>review_summary</th>\n",
       "      <th>review_text</th>\n",
       "    </tr>\n",
       "  </thead>\n",
       "  <tbody>\n",
       "    <tr>\n",
       "      <th>0</th>\n",
       "      <td>123373</td>\n",
       "      <td>29.0</td>\n",
       "      <td>7</td>\n",
       "      <td>5.0</td>\n",
       "      <td>d</td>\n",
       "      <td>38.0</td>\n",
       "      <td>34.0</td>\n",
       "      <td>new</td>\n",
       "      <td>36</td>\n",
       "      <td>5ft 6in</td>\n",
       "      <td>Emily</td>\n",
       "      <td>just right</td>\n",
       "      <td>small</td>\n",
       "      <td>991571</td>\n",
       "      <td>NaN</td>\n",
       "      <td>NaN</td>\n",
       "      <td>NaN</td>\n",
       "      <td>NaN</td>\n",
       "    </tr>\n",
       "    <tr>\n",
       "      <th>1</th>\n",
       "      <td>123373</td>\n",
       "      <td>31.0</td>\n",
       "      <td>13</td>\n",
       "      <td>3.0</td>\n",
       "      <td>b</td>\n",
       "      <td>30.0</td>\n",
       "      <td>36.0</td>\n",
       "      <td>new</td>\n",
       "      <td>NaN</td>\n",
       "      <td>5ft 2in</td>\n",
       "      <td>sydneybraden2001</td>\n",
       "      <td>just right</td>\n",
       "      <td>small</td>\n",
       "      <td>587883</td>\n",
       "      <td>NaN</td>\n",
       "      <td>NaN</td>\n",
       "      <td>NaN</td>\n",
       "      <td>NaN</td>\n",
       "    </tr>\n",
       "    <tr>\n",
       "      <th>2</th>\n",
       "      <td>123373</td>\n",
       "      <td>30.0</td>\n",
       "      <td>7</td>\n",
       "      <td>2.0</td>\n",
       "      <td>b</td>\n",
       "      <td>NaN</td>\n",
       "      <td>32.0</td>\n",
       "      <td>new</td>\n",
       "      <td>NaN</td>\n",
       "      <td>5ft 7in</td>\n",
       "      <td>Ugggh</td>\n",
       "      <td>slightly long</td>\n",
       "      <td>small</td>\n",
       "      <td>395665</td>\n",
       "      <td>9.0</td>\n",
       "      <td>NaN</td>\n",
       "      <td>NaN</td>\n",
       "      <td>NaN</td>\n",
       "    </tr>\n",
       "    <tr>\n",
       "      <th>3</th>\n",
       "      <td>123373</td>\n",
       "      <td>NaN</td>\n",
       "      <td>21</td>\n",
       "      <td>5.0</td>\n",
       "      <td>dd/e</td>\n",
       "      <td>NaN</td>\n",
       "      <td>NaN</td>\n",
       "      <td>new</td>\n",
       "      <td>NaN</td>\n",
       "      <td>NaN</td>\n",
       "      <td>alexmeyer626</td>\n",
       "      <td>just right</td>\n",
       "      <td>fit</td>\n",
       "      <td>875643</td>\n",
       "      <td>NaN</td>\n",
       "      <td>NaN</td>\n",
       "      <td>NaN</td>\n",
       "      <td>NaN</td>\n",
       "    </tr>\n",
       "    <tr>\n",
       "      <th>4</th>\n",
       "      <td>123373</td>\n",
       "      <td>NaN</td>\n",
       "      <td>18</td>\n",
       "      <td>5.0</td>\n",
       "      <td>b</td>\n",
       "      <td>NaN</td>\n",
       "      <td>36.0</td>\n",
       "      <td>new</td>\n",
       "      <td>NaN</td>\n",
       "      <td>5ft 2in</td>\n",
       "      <td>dberrones1</td>\n",
       "      <td>slightly long</td>\n",
       "      <td>small</td>\n",
       "      <td>944840</td>\n",
       "      <td>NaN</td>\n",
       "      <td>NaN</td>\n",
       "      <td>NaN</td>\n",
       "      <td>NaN</td>\n",
       "    </tr>\n",
       "    <tr>\n",
       "      <th>...</th>\n",
       "      <td>...</td>\n",
       "      <td>...</td>\n",
       "      <td>...</td>\n",
       "      <td>...</td>\n",
       "      <td>...</td>\n",
       "      <td>...</td>\n",
       "      <td>...</td>\n",
       "      <td>...</td>\n",
       "      <td>...</td>\n",
       "      <td>...</td>\n",
       "      <td>...</td>\n",
       "      <td>...</td>\n",
       "      <td>...</td>\n",
       "      <td>...</td>\n",
       "      <td>...</td>\n",
       "      <td>...</td>\n",
       "      <td>...</td>\n",
       "      <td>...</td>\n",
       "    </tr>\n",
       "    <tr>\n",
       "      <th>82785</th>\n",
       "      <td>807722</td>\n",
       "      <td>NaN</td>\n",
       "      <td>8</td>\n",
       "      <td>4.0</td>\n",
       "      <td>b</td>\n",
       "      <td>NaN</td>\n",
       "      <td>36.0</td>\n",
       "      <td>outerwear</td>\n",
       "      <td>NaN</td>\n",
       "      <td>5ft 8in</td>\n",
       "      <td>Jennifer</td>\n",
       "      <td>just right</td>\n",
       "      <td>fit</td>\n",
       "      <td>727820</td>\n",
       "      <td>8.5</td>\n",
       "      <td>average</td>\n",
       "      <td>Cute jacket!</td>\n",
       "      <td>Cute jacket!</td>\n",
       "    </tr>\n",
       "    <tr>\n",
       "      <th>82786</th>\n",
       "      <td>807722</td>\n",
       "      <td>NaN</td>\n",
       "      <td>12</td>\n",
       "      <td>5.0</td>\n",
       "      <td>ddd/f</td>\n",
       "      <td>NaN</td>\n",
       "      <td>34.0</td>\n",
       "      <td>outerwear</td>\n",
       "      <td>NaN</td>\n",
       "      <td>5ft 5in</td>\n",
       "      <td>Kelli</td>\n",
       "      <td>slightly long</td>\n",
       "      <td>small</td>\n",
       "      <td>197040</td>\n",
       "      <td>NaN</td>\n",
       "      <td>NaN</td>\n",
       "      <td>It's a beautiful jacket.</td>\n",
       "      <td>It's a beautiful jacket. I love how it's knit ...</td>\n",
       "    </tr>\n",
       "    <tr>\n",
       "      <th>82787</th>\n",
       "      <td>807722</td>\n",
       "      <td>NaN</td>\n",
       "      <td>12</td>\n",
       "      <td>5.0</td>\n",
       "      <td>dddd/g</td>\n",
       "      <td>36.0</td>\n",
       "      <td>32.0</td>\n",
       "      <td>outerwear</td>\n",
       "      <td>NaN</td>\n",
       "      <td>5ft 4in</td>\n",
       "      <td>elacount</td>\n",
       "      <td>just right</td>\n",
       "      <td>fit</td>\n",
       "      <td>102493</td>\n",
       "      <td>NaN</td>\n",
       "      <td>NaN</td>\n",
       "      <td>I love this blazer. It is</td>\n",
       "      <td>I love this blazer. It is a great office piece...</td>\n",
       "    </tr>\n",
       "    <tr>\n",
       "      <th>82788</th>\n",
       "      <td>807722</td>\n",
       "      <td>NaN</td>\n",
       "      <td>12</td>\n",
       "      <td>4.0</td>\n",
       "      <td>NaN</td>\n",
       "      <td>NaN</td>\n",
       "      <td>NaN</td>\n",
       "      <td>outerwear</td>\n",
       "      <td>NaN</td>\n",
       "      <td>5ft 3in</td>\n",
       "      <td>jennaklinner</td>\n",
       "      <td>just right</td>\n",
       "      <td>fit</td>\n",
       "      <td>756491</td>\n",
       "      <td>NaN</td>\n",
       "      <td>NaN</td>\n",
       "      <td>I love this blazer!! I wo</td>\n",
       "      <td>I love this blazer!! I wore it yesterday and g...</td>\n",
       "    </tr>\n",
       "    <tr>\n",
       "      <th>82789</th>\n",
       "      <td>807722</td>\n",
       "      <td>NaN</td>\n",
       "      <td>4</td>\n",
       "      <td>4.0</td>\n",
       "      <td>d</td>\n",
       "      <td>39.0</td>\n",
       "      <td>32.0</td>\n",
       "      <td>outerwear</td>\n",
       "      <td>NaN</td>\n",
       "      <td>6ft</td>\n",
       "      <td>maireadsteadman</td>\n",
       "      <td>just right</td>\n",
       "      <td>fit</td>\n",
       "      <td>78305</td>\n",
       "      <td>NaN</td>\n",
       "      <td>NaN</td>\n",
       "      <td>I love this piece. I'm re</td>\n",
       "      <td>I love this piece. I'm really happy with it!</td>\n",
       "    </tr>\n",
       "  </tbody>\n",
       "</table>\n",
       "<p>82790 rows × 18 columns</p>\n",
       "</div>"
      ],
      "text/plain": [
       "       item_id  waist  size  quality cup size  hips  bra size   category bust  \\\n",
       "0       123373   29.0     7      5.0        d  38.0      34.0        new   36   \n",
       "1       123373   31.0    13      3.0        b  30.0      36.0        new  NaN   \n",
       "2       123373   30.0     7      2.0        b   NaN      32.0        new  NaN   \n",
       "3       123373    NaN    21      5.0     dd/e   NaN       NaN        new  NaN   \n",
       "4       123373    NaN    18      5.0        b   NaN      36.0        new  NaN   \n",
       "...        ...    ...   ...      ...      ...   ...       ...        ...  ...   \n",
       "82785   807722    NaN     8      4.0        b   NaN      36.0  outerwear  NaN   \n",
       "82786   807722    NaN    12      5.0    ddd/f   NaN      34.0  outerwear  NaN   \n",
       "82787   807722    NaN    12      5.0   dddd/g  36.0      32.0  outerwear  NaN   \n",
       "82788   807722    NaN    12      4.0      NaN   NaN       NaN  outerwear  NaN   \n",
       "82789   807722    NaN     4      4.0        d  39.0      32.0  outerwear  NaN   \n",
       "\n",
       "        height         user_name         length    fit  user_id  shoe size  \\\n",
       "0      5ft 6in             Emily     just right  small   991571        NaN   \n",
       "1      5ft 2in  sydneybraden2001     just right  small   587883        NaN   \n",
       "2      5ft 7in             Ugggh  slightly long  small   395665        9.0   \n",
       "3          NaN      alexmeyer626     just right    fit   875643        NaN   \n",
       "4      5ft 2in        dberrones1  slightly long  small   944840        NaN   \n",
       "...        ...               ...            ...    ...      ...        ...   \n",
       "82785  5ft 8in          Jennifer     just right    fit   727820        8.5   \n",
       "82786  5ft 5in             Kelli  slightly long  small   197040        NaN   \n",
       "82787  5ft 4in          elacount     just right    fit   102493        NaN   \n",
       "82788  5ft 3in      jennaklinner     just right    fit   756491        NaN   \n",
       "82789      6ft   maireadsteadman     just right    fit    78305        NaN   \n",
       "\n",
       "      shoe width             review_summary  \\\n",
       "0            NaN                        NaN   \n",
       "1            NaN                        NaN   \n",
       "2            NaN                        NaN   \n",
       "3            NaN                        NaN   \n",
       "4            NaN                        NaN   \n",
       "...          ...                        ...   \n",
       "82785    average               Cute jacket!   \n",
       "82786        NaN   It's a beautiful jacket.   \n",
       "82787        NaN  I love this blazer. It is   \n",
       "82788        NaN  I love this blazer!! I wo   \n",
       "82789        NaN  I love this piece. I'm re   \n",
       "\n",
       "                                             review_text  \n",
       "0                                                    NaN  \n",
       "1                                                    NaN  \n",
       "2                                                    NaN  \n",
       "3                                                    NaN  \n",
       "4                                                    NaN  \n",
       "...                                                  ...  \n",
       "82785                                       Cute jacket!  \n",
       "82786  It's a beautiful jacket. I love how it's knit ...  \n",
       "82787  I love this blazer. It is a great office piece...  \n",
       "82788  I love this blazer!! I wore it yesterday and g...  \n",
       "82789       I love this piece. I'm really happy with it!  \n",
       "\n",
       "[82790 rows x 18 columns]"
      ]
     },
     "execution_count": 51,
     "metadata": {},
     "output_type": "execute_result"
    }
   ],
   "source": [
    "raw"
   ]
  },
  {
   "cell_type": "code",
   "execution_count": null,
   "id": "cf7b246f",
   "metadata": {},
   "outputs": [],
   "source": []
  },
  {
   "cell_type": "code",
   "execution_count": 52,
   "id": "bb399245",
   "metadata": {},
   "outputs": [
    {
     "name": "stderr",
     "output_type": "stream",
     "text": [
      "No model was supplied, defaulted to distilbert-base-uncased-finetuned-sst-2-english and revision af0f99b (https://huggingface.co/distilbert-base-uncased-finetuned-sst-2-english).\n",
      "Using a pipeline without specifying a model name and revision in production is not recommended.\n"
     ]
    }
   ],
   "source": [
    "sentiment_analysis = pipeline(\"sentiment-analysis\")\n",
    "def review_text_transform(x):\n",
    "    if not isinstance(x, str): return 0.5\n",
    "    if len(x) >= 512 : return 0.5\n",
    "    label = sentiment_analysis(x)[0]['label']\n",
    "    if label == 'POSITIVE':\n",
    "        return 1\n",
    "    else:\n",
    "        return 0"
   ]
  },
  {
   "cell_type": "code",
   "execution_count": null,
   "id": "f914c717",
   "metadata": {},
   "outputs": [],
   "source": []
  },
  {
   "cell_type": "code",
   "execution_count": null,
   "id": "6b6e30a2",
   "metadata": {},
   "outputs": [],
   "source": []
  },
  {
   "cell_type": "code",
   "execution_count": 53,
   "id": "caf5f84f",
   "metadata": {},
   "outputs": [
    {
     "name": "stderr",
     "output_type": "stream",
     "text": [
      "C:\\Users\\stanl\\AppData\\Local\\Temp\\ipykernel_17192\\401756763.py:2: SettingWithCopyWarning: \n",
      "A value is trying to be set on a copy of a slice from a DataFrame\n",
      "\n",
      "See the caveats in the documentation: https://pandas.pydata.org/pandas-docs/stable/user_guide/indexing.html#returning-a-view-versus-a-copy\n",
      "  raw['review_text'][i] = review_text_transform(raw['review_text'][i])\n"
     ]
    }
   ],
   "source": [
    "for i in range(len(raw['review_text'])):\n",
    "    raw['review_text'][i] = review_text_transform(raw['review_text'][i])"
   ]
  },
  {
   "cell_type": "code",
   "execution_count": null,
   "id": "d641a234",
   "metadata": {},
   "outputs": [],
   "source": []
  },
  {
   "cell_type": "code",
   "execution_count": 56,
   "id": "2c647172",
   "metadata": {},
   "outputs": [],
   "source": [
    "raw.to_csv('sentiment.csv')"
   ]
  },
  {
   "cell_type": "code",
   "execution_count": null,
   "id": "59494069",
   "metadata": {},
   "outputs": [],
   "source": []
  },
  {
   "cell_type": "code",
   "execution_count": 81,
   "id": "c7ca9853",
   "metadata": {},
   "outputs": [
    {
     "name": "stderr",
     "output_type": "stream",
     "text": [
      "c:\\software\\anaconda\\lib\\site-packages\\IPython\\core\\interactiveshell.py:3251: DtypeWarning: Columns (9) have mixed types.Specify dtype option on import or set low_memory=False.\n",
      "  exec(code_obj, self.user_global_ns, self.user_ns)\n"
     ]
    }
   ],
   "source": [
    "raw = pd.read_csv('sentiment.csv',index_col = False)"
   ]
  },
  {
   "cell_type": "code",
   "execution_count": 82,
   "id": "5a94b225",
   "metadata": {},
   "outputs": [],
   "source": [
    "raw = raw.drop(['user_name','length','review_summary','Unnamed: 0'],axis=1)"
   ]
  },
  {
   "cell_type": "code",
   "execution_count": 83,
   "id": "1439a3e5",
   "metadata": {},
   "outputs": [
    {
     "data": {
      "text/html": [
       "<div>\n",
       "<style scoped>\n",
       "    .dataframe tbody tr th:only-of-type {\n",
       "        vertical-align: middle;\n",
       "    }\n",
       "\n",
       "    .dataframe tbody tr th {\n",
       "        vertical-align: top;\n",
       "    }\n",
       "\n",
       "    .dataframe thead th {\n",
       "        text-align: right;\n",
       "    }\n",
       "</style>\n",
       "<table border=\"1\" class=\"dataframe\">\n",
       "  <thead>\n",
       "    <tr style=\"text-align: right;\">\n",
       "      <th></th>\n",
       "      <th>item_id</th>\n",
       "      <th>waist</th>\n",
       "      <th>size</th>\n",
       "      <th>quality</th>\n",
       "      <th>cup size</th>\n",
       "      <th>hips</th>\n",
       "      <th>bra size</th>\n",
       "      <th>category</th>\n",
       "      <th>bust</th>\n",
       "      <th>height</th>\n",
       "      <th>fit</th>\n",
       "      <th>user_id</th>\n",
       "      <th>shoe size</th>\n",
       "      <th>shoe width</th>\n",
       "      <th>review_text</th>\n",
       "    </tr>\n",
       "  </thead>\n",
       "  <tbody>\n",
       "    <tr>\n",
       "      <th>0</th>\n",
       "      <td>123373</td>\n",
       "      <td>29.0</td>\n",
       "      <td>7</td>\n",
       "      <td>5.0</td>\n",
       "      <td>d</td>\n",
       "      <td>38.0</td>\n",
       "      <td>34.0</td>\n",
       "      <td>new</td>\n",
       "      <td>36.0</td>\n",
       "      <td>5ft 6in</td>\n",
       "      <td>small</td>\n",
       "      <td>991571</td>\n",
       "      <td>NaN</td>\n",
       "      <td>NaN</td>\n",
       "      <td>0.5</td>\n",
       "    </tr>\n",
       "    <tr>\n",
       "      <th>1</th>\n",
       "      <td>123373</td>\n",
       "      <td>31.0</td>\n",
       "      <td>13</td>\n",
       "      <td>3.0</td>\n",
       "      <td>b</td>\n",
       "      <td>30.0</td>\n",
       "      <td>36.0</td>\n",
       "      <td>new</td>\n",
       "      <td>NaN</td>\n",
       "      <td>5ft 2in</td>\n",
       "      <td>small</td>\n",
       "      <td>587883</td>\n",
       "      <td>NaN</td>\n",
       "      <td>NaN</td>\n",
       "      <td>0.5</td>\n",
       "    </tr>\n",
       "    <tr>\n",
       "      <th>2</th>\n",
       "      <td>123373</td>\n",
       "      <td>30.0</td>\n",
       "      <td>7</td>\n",
       "      <td>2.0</td>\n",
       "      <td>b</td>\n",
       "      <td>NaN</td>\n",
       "      <td>32.0</td>\n",
       "      <td>new</td>\n",
       "      <td>NaN</td>\n",
       "      <td>5ft 7in</td>\n",
       "      <td>small</td>\n",
       "      <td>395665</td>\n",
       "      <td>9.0</td>\n",
       "      <td>NaN</td>\n",
       "      <td>0.5</td>\n",
       "    </tr>\n",
       "    <tr>\n",
       "      <th>3</th>\n",
       "      <td>123373</td>\n",
       "      <td>NaN</td>\n",
       "      <td>21</td>\n",
       "      <td>5.0</td>\n",
       "      <td>dd/e</td>\n",
       "      <td>NaN</td>\n",
       "      <td>NaN</td>\n",
       "      <td>new</td>\n",
       "      <td>NaN</td>\n",
       "      <td>NaN</td>\n",
       "      <td>fit</td>\n",
       "      <td>875643</td>\n",
       "      <td>NaN</td>\n",
       "      <td>NaN</td>\n",
       "      <td>0.5</td>\n",
       "    </tr>\n",
       "    <tr>\n",
       "      <th>4</th>\n",
       "      <td>123373</td>\n",
       "      <td>NaN</td>\n",
       "      <td>18</td>\n",
       "      <td>5.0</td>\n",
       "      <td>b</td>\n",
       "      <td>NaN</td>\n",
       "      <td>36.0</td>\n",
       "      <td>new</td>\n",
       "      <td>NaN</td>\n",
       "      <td>5ft 2in</td>\n",
       "      <td>small</td>\n",
       "      <td>944840</td>\n",
       "      <td>NaN</td>\n",
       "      <td>NaN</td>\n",
       "      <td>0.5</td>\n",
       "    </tr>\n",
       "    <tr>\n",
       "      <th>...</th>\n",
       "      <td>...</td>\n",
       "      <td>...</td>\n",
       "      <td>...</td>\n",
       "      <td>...</td>\n",
       "      <td>...</td>\n",
       "      <td>...</td>\n",
       "      <td>...</td>\n",
       "      <td>...</td>\n",
       "      <td>...</td>\n",
       "      <td>...</td>\n",
       "      <td>...</td>\n",
       "      <td>...</td>\n",
       "      <td>...</td>\n",
       "      <td>...</td>\n",
       "      <td>...</td>\n",
       "    </tr>\n",
       "    <tr>\n",
       "      <th>82785</th>\n",
       "      <td>807722</td>\n",
       "      <td>NaN</td>\n",
       "      <td>8</td>\n",
       "      <td>4.0</td>\n",
       "      <td>b</td>\n",
       "      <td>NaN</td>\n",
       "      <td>36.0</td>\n",
       "      <td>outerwear</td>\n",
       "      <td>NaN</td>\n",
       "      <td>5ft 8in</td>\n",
       "      <td>fit</td>\n",
       "      <td>727820</td>\n",
       "      <td>8.5</td>\n",
       "      <td>average</td>\n",
       "      <td>1.0</td>\n",
       "    </tr>\n",
       "    <tr>\n",
       "      <th>82786</th>\n",
       "      <td>807722</td>\n",
       "      <td>NaN</td>\n",
       "      <td>12</td>\n",
       "      <td>5.0</td>\n",
       "      <td>ddd/f</td>\n",
       "      <td>NaN</td>\n",
       "      <td>34.0</td>\n",
       "      <td>outerwear</td>\n",
       "      <td>NaN</td>\n",
       "      <td>5ft 5in</td>\n",
       "      <td>small</td>\n",
       "      <td>197040</td>\n",
       "      <td>NaN</td>\n",
       "      <td>NaN</td>\n",
       "      <td>1.0</td>\n",
       "    </tr>\n",
       "    <tr>\n",
       "      <th>82787</th>\n",
       "      <td>807722</td>\n",
       "      <td>NaN</td>\n",
       "      <td>12</td>\n",
       "      <td>5.0</td>\n",
       "      <td>dddd/g</td>\n",
       "      <td>36.0</td>\n",
       "      <td>32.0</td>\n",
       "      <td>outerwear</td>\n",
       "      <td>NaN</td>\n",
       "      <td>5ft 4in</td>\n",
       "      <td>fit</td>\n",
       "      <td>102493</td>\n",
       "      <td>NaN</td>\n",
       "      <td>NaN</td>\n",
       "      <td>1.0</td>\n",
       "    </tr>\n",
       "    <tr>\n",
       "      <th>82788</th>\n",
       "      <td>807722</td>\n",
       "      <td>NaN</td>\n",
       "      <td>12</td>\n",
       "      <td>4.0</td>\n",
       "      <td>NaN</td>\n",
       "      <td>NaN</td>\n",
       "      <td>NaN</td>\n",
       "      <td>outerwear</td>\n",
       "      <td>NaN</td>\n",
       "      <td>5ft 3in</td>\n",
       "      <td>fit</td>\n",
       "      <td>756491</td>\n",
       "      <td>NaN</td>\n",
       "      <td>NaN</td>\n",
       "      <td>1.0</td>\n",
       "    </tr>\n",
       "    <tr>\n",
       "      <th>82789</th>\n",
       "      <td>807722</td>\n",
       "      <td>NaN</td>\n",
       "      <td>4</td>\n",
       "      <td>4.0</td>\n",
       "      <td>d</td>\n",
       "      <td>39.0</td>\n",
       "      <td>32.0</td>\n",
       "      <td>outerwear</td>\n",
       "      <td>NaN</td>\n",
       "      <td>6ft</td>\n",
       "      <td>fit</td>\n",
       "      <td>78305</td>\n",
       "      <td>NaN</td>\n",
       "      <td>NaN</td>\n",
       "      <td>1.0</td>\n",
       "    </tr>\n",
       "  </tbody>\n",
       "</table>\n",
       "<p>82790 rows × 15 columns</p>\n",
       "</div>"
      ],
      "text/plain": [
       "       item_id  waist  size  quality cup size  hips  bra size   category  \\\n",
       "0       123373   29.0     7      5.0        d  38.0      34.0        new   \n",
       "1       123373   31.0    13      3.0        b  30.0      36.0        new   \n",
       "2       123373   30.0     7      2.0        b   NaN      32.0        new   \n",
       "3       123373    NaN    21      5.0     dd/e   NaN       NaN        new   \n",
       "4       123373    NaN    18      5.0        b   NaN      36.0        new   \n",
       "...        ...    ...   ...      ...      ...   ...       ...        ...   \n",
       "82785   807722    NaN     8      4.0        b   NaN      36.0  outerwear   \n",
       "82786   807722    NaN    12      5.0    ddd/f   NaN      34.0  outerwear   \n",
       "82787   807722    NaN    12      5.0   dddd/g  36.0      32.0  outerwear   \n",
       "82788   807722    NaN    12      4.0      NaN   NaN       NaN  outerwear   \n",
       "82789   807722    NaN     4      4.0        d  39.0      32.0  outerwear   \n",
       "\n",
       "       bust   height    fit  user_id  shoe size shoe width  review_text  \n",
       "0      36.0  5ft 6in  small   991571        NaN        NaN          0.5  \n",
       "1       NaN  5ft 2in  small   587883        NaN        NaN          0.5  \n",
       "2       NaN  5ft 7in  small   395665        9.0        NaN          0.5  \n",
       "3       NaN      NaN    fit   875643        NaN        NaN          0.5  \n",
       "4       NaN  5ft 2in  small   944840        NaN        NaN          0.5  \n",
       "...     ...      ...    ...      ...        ...        ...          ...  \n",
       "82785   NaN  5ft 8in    fit   727820        8.5    average          1.0  \n",
       "82786   NaN  5ft 5in  small   197040        NaN        NaN          1.0  \n",
       "82787   NaN  5ft 4in    fit   102493        NaN        NaN          1.0  \n",
       "82788   NaN  5ft 3in    fit   756491        NaN        NaN          1.0  \n",
       "82789   NaN      6ft    fit    78305        NaN        NaN          1.0  \n",
       "\n",
       "[82790 rows x 15 columns]"
      ]
     },
     "execution_count": 83,
     "metadata": {},
     "output_type": "execute_result"
    }
   ],
   "source": [
    "raw"
   ]
  },
  {
   "cell_type": "code",
   "execution_count": null,
   "id": "3a42cccc",
   "metadata": {},
   "outputs": [],
   "source": []
  },
  {
   "cell_type": "code",
   "execution_count": 60,
   "id": "afb288f9",
   "metadata": {},
   "outputs": [
    {
     "data": {
      "text/plain": [
       "79908"
      ]
     },
     "execution_count": 60,
     "metadata": {},
     "output_type": "execute_result"
    }
   ],
   "source": [
    "raw['waist'].isnull().sum()"
   ]
  },
  {
   "cell_type": "code",
   "execution_count": 61,
   "id": "a56c2daf",
   "metadata": {},
   "outputs": [
    {
     "data": {
      "text/plain": [
       "0"
      ]
     },
     "execution_count": 61,
     "metadata": {},
     "output_type": "execute_result"
    }
   ],
   "source": [
    "raw['size'].isnull().sum()"
   ]
  },
  {
   "cell_type": "code",
   "execution_count": 62,
   "id": "5e82e0c7",
   "metadata": {},
   "outputs": [
    {
     "data": {
      "text/plain": [
       "68"
      ]
     },
     "execution_count": 62,
     "metadata": {},
     "output_type": "execute_result"
    }
   ],
   "source": [
    "raw['quality'].isnull().sum()"
   ]
  },
  {
   "cell_type": "code",
   "execution_count": 63,
   "id": "085bf5c0",
   "metadata": {},
   "outputs": [
    {
     "data": {
      "text/plain": [
       "6255"
      ]
     },
     "execution_count": 63,
     "metadata": {},
     "output_type": "execute_result"
    }
   ],
   "source": [
    "raw['cup size'].isnull().sum()"
   ]
  },
  {
   "cell_type": "code",
   "execution_count": 64,
   "id": "cccfeba6",
   "metadata": {},
   "outputs": [
    {
     "data": {
      "text/plain": [
       "26726"
      ]
     },
     "execution_count": 64,
     "metadata": {},
     "output_type": "execute_result"
    }
   ],
   "source": [
    "raw['hips'].isnull().sum()"
   ]
  },
  {
   "cell_type": "code",
   "execution_count": 65,
   "id": "ba0c6072",
   "metadata": {},
   "outputs": [
    {
     "data": {
      "text/plain": [
       "6018"
      ]
     },
     "execution_count": 65,
     "metadata": {},
     "output_type": "execute_result"
    }
   ],
   "source": [
    "raw['bra size'].isnull().sum()"
   ]
  },
  {
   "cell_type": "code",
   "execution_count": 66,
   "id": "d474d51c",
   "metadata": {},
   "outputs": [
    {
     "data": {
      "text/plain": [
       "0"
      ]
     },
     "execution_count": 66,
     "metadata": {},
     "output_type": "execute_result"
    }
   ],
   "source": [
    "raw['category'].isnull().sum()"
   ]
  },
  {
   "cell_type": "code",
   "execution_count": 67,
   "id": "f3ac6c32",
   "metadata": {},
   "outputs": [
    {
     "data": {
      "text/plain": [
       "70936"
      ]
     },
     "execution_count": 67,
     "metadata": {},
     "output_type": "execute_result"
    }
   ],
   "source": [
    "raw['bust'].isnull().sum()"
   ]
  },
  {
   "cell_type": "code",
   "execution_count": 68,
   "id": "e9f9e76a",
   "metadata": {},
   "outputs": [
    {
     "data": {
      "text/plain": [
       "1107"
      ]
     },
     "execution_count": 68,
     "metadata": {},
     "output_type": "execute_result"
    }
   ],
   "source": [
    "raw['height'].isnull().sum()"
   ]
  },
  {
   "cell_type": "code",
   "execution_count": 69,
   "id": "d3f1feb7",
   "metadata": {},
   "outputs": [
    {
     "data": {
      "text/plain": [
       "54875"
      ]
     },
     "execution_count": 69,
     "metadata": {},
     "output_type": "execute_result"
    }
   ],
   "source": [
    "raw['shoe size'].isnull().sum()"
   ]
  },
  {
   "cell_type": "code",
   "execution_count": 70,
   "id": "27ca79a9",
   "metadata": {},
   "outputs": [
    {
     "data": {
      "text/plain": [
       "64183"
      ]
     },
     "execution_count": 70,
     "metadata": {},
     "output_type": "execute_result"
    }
   ],
   "source": [
    "raw['shoe width'].isnull().sum()"
   ]
  },
  {
   "cell_type": "code",
   "execution_count": null,
   "id": "cb55ff38",
   "metadata": {},
   "outputs": [],
   "source": []
  },
  {
   "cell_type": "code",
   "execution_count": 92,
   "id": "0c4fbc70",
   "metadata": {},
   "outputs": [
    {
     "data": {
      "text/plain": [
       "56757"
      ]
     },
     "execution_count": 92,
     "metadata": {},
     "output_type": "execute_result"
    }
   ],
   "source": [
    "sum(raw['fit']=='fit')"
   ]
  },
  {
   "cell_type": "code",
   "execution_count": null,
   "id": "6af80bba",
   "metadata": {},
   "outputs": [],
   "source": []
  },
  {
   "cell_type": "code",
   "execution_count": null,
   "id": "51252abf",
   "metadata": {},
   "outputs": [],
   "source": []
  },
  {
   "cell_type": "code",
   "execution_count": null,
   "id": "b27d0b47",
   "metadata": {},
   "outputs": [],
   "source": []
  },
  {
   "cell_type": "code",
   "execution_count": null,
   "id": "3fe36b50",
   "metadata": {},
   "outputs": [],
   "source": []
  },
  {
   "cell_type": "code",
   "execution_count": null,
   "id": "7df32e5f",
   "metadata": {},
   "outputs": [],
   "source": []
  },
  {
   "cell_type": "code",
   "execution_count": null,
   "id": "eee1f016",
   "metadata": {},
   "outputs": [],
   "source": []
  },
  {
   "cell_type": "code",
   "execution_count": null,
   "id": "6b298f0e",
   "metadata": {},
   "outputs": [],
   "source": []
  },
  {
   "cell_type": "code",
   "execution_count": null,
   "id": "6b6cb58f",
   "metadata": {},
   "outputs": [],
   "source": []
  },
  {
   "cell_type": "code",
   "execution_count": null,
   "id": "cd4c72e9",
   "metadata": {},
   "outputs": [],
   "source": []
  },
  {
   "cell_type": "code",
   "execution_count": null,
   "id": "5f1e144e",
   "metadata": {},
   "outputs": [],
   "source": []
  },
  {
   "cell_type": "code",
   "execution_count": null,
   "id": "e32bbb6e",
   "metadata": {},
   "outputs": [],
   "source": []
  },
  {
   "cell_type": "code",
   "execution_count": null,
   "id": "491d748c",
   "metadata": {},
   "outputs": [],
   "source": []
  },
  {
   "cell_type": "code",
   "execution_count": null,
   "id": "eaed2364",
   "metadata": {},
   "outputs": [],
   "source": []
  },
  {
   "cell_type": "code",
   "execution_count": null,
   "id": "001fb43e",
   "metadata": {},
   "outputs": [],
   "source": []
  },
  {
   "cell_type": "code",
   "execution_count": null,
   "id": "daf7fc35",
   "metadata": {},
   "outputs": [],
   "source": []
  },
  {
   "cell_type": "code",
   "execution_count": 105,
   "id": "8228e421",
   "metadata": {},
   "outputs": [],
   "source": [
    "bust_size_one_hot = pd.get_dummies(raw['bust size'])"
   ]
  },
  {
   "cell_type": "code",
   "execution_count": 106,
   "id": "66c8065d",
   "metadata": {},
   "outputs": [],
   "source": [
    "rented_for_one_hot = pd.get_dummies(raw['rented for'])"
   ]
  },
  {
   "cell_type": "code",
   "execution_count": 107,
   "id": "a4cc348e",
   "metadata": {},
   "outputs": [],
   "source": [
    "body_type_one_hot = pd.get_dummies(raw['body type'])"
   ]
  },
  {
   "cell_type": "code",
   "execution_count": 108,
   "id": "f80c51dc",
   "metadata": {},
   "outputs": [],
   "source": [
    "category_one_hot = pd.get_dummies(raw['category'])"
   ]
  },
  {
   "cell_type": "code",
   "execution_count": null,
   "id": "c5eceb51",
   "metadata": {},
   "outputs": [],
   "source": []
  },
  {
   "cell_type": "code",
   "execution_count": null,
   "id": "b45af130",
   "metadata": {},
   "outputs": [],
   "source": []
  },
  {
   "cell_type": "code",
   "execution_count": null,
   "id": "29823639",
   "metadata": {},
   "outputs": [],
   "source": []
  },
  {
   "cell_type": "code",
   "execution_count": null,
   "id": "6a5aa64d",
   "metadata": {},
   "outputs": [],
   "source": []
  },
  {
   "cell_type": "code",
   "execution_count": null,
   "id": "e9f8195b",
   "metadata": {},
   "outputs": [],
   "source": []
  },
  {
   "cell_type": "code",
   "execution_count": null,
   "id": "8986c39a",
   "metadata": {},
   "outputs": [],
   "source": []
  },
  {
   "cell_type": "code",
   "execution_count": null,
   "id": "d031aa9e",
   "metadata": {},
   "outputs": [],
   "source": []
  }
 ],
 "metadata": {
  "kernelspec": {
   "display_name": "Python 3 (ipykernel)",
   "language": "python",
   "name": "python3"
  },
  "language_info": {
   "codemirror_mode": {
    "name": "ipython",
    "version": 3
   },
   "file_extension": ".py",
   "mimetype": "text/x-python",
   "name": "python",
   "nbconvert_exporter": "python",
   "pygments_lexer": "ipython3",
   "version": "3.8.8"
  }
 },
 "nbformat": 4,
 "nbformat_minor": 5
}
